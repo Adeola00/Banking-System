{
 "cells": [
  {
   "cell_type": "code",
   "execution_count": 4,
   "id": "69c5e3bc",
   "metadata": {},
   "outputs": [],
   "source": [
    "class BankAccount:\n",
    "    def __init__(self, first_name, last_name):\n",
    "        self.first_name = first_name\n",
    "        self.last_name = last_name\n",
    "        self.account_balance = 0\n",
    "    \n",
    "    def deposit(self, amount):\n",
    "        self.account_balance += float(amount)\n",
    "        \n",
    "    def withdraw(self, amount):\n",
    "        self.account_balance -= float(amount)\n",
    "        \n",
    "    def get_balance(self):\n",
    "        return self.account_balance\n",
    "\n",
    "class Bank:\n",
    "    def __init__(self):\n",
    "        self.accounts = {}\n",
    "    \n",
    "    def command_prompt(self):\n",
    "        option = None\n",
    "        while option != \"4\":\n",
    "            print(' 1. Create an Account \\n','2. Deposits \\n','3. Withdrawals \\n','5. Get balance\\n','4. Exit \\n')\n",
    "            print(self.accounts)\n",
    "            option = input(\"Enter option:\")\n",
    "            if option == \"1\":\n",
    "                print(\"Create account!!\")\n",
    "                self.create_account()\n",
    "            elif option == \"2\":\n",
    "                self.deposit()\n",
    "            elif option == \"5\":\n",
    "                account_num = input(\"Enter account number:\")\n",
    "                account = self.accounts[account_num]\n",
    "                print(f\"Your balance is ${account.get_balance():.2f}\")\n",
    "            elif option == \"3\":\n",
    "                self.withdraw()\n",
    "        \n",
    "    #creating a personal account\n",
    "    def create_account(self):\n",
    "        first_name = input('Enter First Name ')\n",
    "        last_name = input('Enter Last Name ')\n",
    "        #self.middle_name = input('Enter Middle Name ')\n",
    "        #self.age = int(input('Enter Age '))\n",
    "        #self.gender = input('Enter Gender ')\n",
    "        #self.account_balance = 0\n",
    "        new_account = BankAccount(first_name, last_name)\n",
    "        account_number = self.account_number()\n",
    "        self.accounts = {account_number: new_account}\n",
    "        print(f\"Welcome, {first_name}. Your account number is {account_number}.\")\n",
    "        #with open('account_information.txt','a') as acc:\n",
    "        #    acc.write(f'{self.last_name} {self.first_name} {self.middle_name} {self.age} {self.gender} {self.account_balance} {self.account_number()}\\n') \n",
    "    def account_number(self):\n",
    "        import random \n",
    "        account_no = ''\n",
    "        for i in range(9):\n",
    "            num =random.randint(0,9)\n",
    "            account_no += str(num)\n",
    "        return account_no\n",
    "    \n",
    "    #def __repr__(self):\n",
    "    #    return f' Hello {self.last_name.upper()}, {self.first_name.capitalize()} Your account number is {account_number()}'\n",
    "\n",
    "    def deposit(self):\n",
    "        account_number = input(\"Enter your account number: \")\n",
    "        amount = int(input(\"Enter an amount: \"))\n",
    "        account = self.accounts[account_number]\n",
    "        account.deposit(amount)\n",
    "    def withdraw(self):\n",
    "        account_number = input(\"Enter your account number: \")\n",
    "        amount = int(input(\"Enter an amount: \"))\n",
    "        account = self.accounts[account_number]\n",
    "        account.withdraw(amount)\n",
    "        #if account_number in info_lst:\n",
    "        #    self.account_balance += amount\n",
    "    #def __repr__(self):\n",
    "    #    return str({self.account_balance})\n",
    "    \n",
    "        \n"
   ]
  },
  {
   "cell_type": "code",
   "execution_count": null,
   "id": "67d9cd12",
   "metadata": {},
   "outputs": [
    {
     "name": "stdout",
     "output_type": "stream",
     "text": [
      " 1. Create an Account \n",
      " 2. Deposits \n",
      " 3. Withdrawals \n",
      " 5. Get balance\n",
      " 4. Exit \n",
      "\n",
      "{}\n"
     ]
    }
   ],
   "source": [
    "bank = Bank()\n",
    "bank.command_prompt()"
   ]
  }
 ],
 "metadata": {
  "kernelspec": {
   "display_name": "Python 3 (ipykernel)",
   "language": "python",
   "name": "python3"
  },
  "language_info": {
   "codemirror_mode": {
    "name": "ipython",
    "version": 3
   },
   "file_extension": ".py",
   "mimetype": "text/x-python",
   "name": "python",
   "nbconvert_exporter": "python",
   "pygments_lexer": "ipython3",
   "version": "3.9.12"
  }
 },
 "nbformat": 4,
 "nbformat_minor": 5
}
