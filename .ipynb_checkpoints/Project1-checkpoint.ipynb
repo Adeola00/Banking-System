{
 "cells": [
  {
   "cell_type": "code",
   "execution_count": 1,
   "id": "69c5e3bc",
   "metadata": {},
   "outputs": [],
   "source": [
    "class BankAccount:\n",
    "    def __init__(self, first_name, last_name,middle_name,age,gender):\n",
    "        self.first_name = first_name\n",
    "        self.last_name = last_name\n",
    "        self.middle_name =middle_name\n",
    "        self.age = age\n",
    "        self.agender = gender\n",
    "        self.account_balance = 0\n",
    "        \n",
    "    def __repr__(self):\n",
    "        return self.first_name + ' - ' + str(self.account_balance)\n",
    "    \n",
    "    def deposit(self, amount):\n",
    "        self.account_balance += float(amount)\n",
    "        \n",
    "    def withdraw(self, amount):\n",
    "        self.account_balance -= float(amount)\n",
    "        \n",
    "    def get_balance(self):\n",
    "        return self.account_balance\n",
    "\n",
    "class Bank:\n",
    "    def __init__(self):\n",
    "        self.accounts = {}\n",
    "    # Available operations\n",
    "    def command_prompt(self):\n",
    "        option = None\n",
    "        while option != \"5\":\n",
    "            print(' 1. Create an Account \\n','2. Deposits \\n','3. Withdrawals \\n','4. Get balance\\n','5. Exit \\n')\n",
    "            print(self.accounts)\n",
    "            option = input(\"Enter option:\")\n",
    "            if option == \"1\":\n",
    "                print(\"Create account!!\")\n",
    "                self.create_account()\n",
    "            elif option == \"2\":\n",
    "                self.deposit()\n",
    "            elif option == \"4\":\n",
    "                account_num = input(\"Enter account number:\")\n",
    "                account = self.accounts[account_num]\n",
    "                print(f\"Your balance is ${account.get_balance():.2f}\")\n",
    "            elif option == \"3\":\n",
    "                self.withdraw()\n",
    "        else:\n",
    "            print(\"Thank you for banking with us.\")\n",
    "        \n",
    "        \n",
    "    #getting personal details\n",
    "    def create_account(self):\n",
    "        first_name = input('Enter First Name ')\n",
    "        last_name = input('Enter Last Name ')\n",
    "        middle_name = input('Enter Middle Name ')\n",
    "        age = int(input('Enter Age '))\n",
    "        if age < 18:\n",
    "            print(\"You are not old enough to create an account.\")\n",
    "            return\n",
    "        gender = input('Enter Gender ')\n",
    "        account_balance = 0\n",
    "#         pin = input(\"Create a PIN: \")\n",
    "#         confirm_pin = input(\"Confirm PIN: \")\n",
    "#         if pin != confirm_pin:\n",
    "#             print(\"Inconsistent PIN.\\n\")\n",
    "#             return\n",
    "        new_account = BankAccount(first_name, last_name,middle_name,age,gender)\n",
    "        account_number = self.account_number()\n",
    "        self.accounts[account_number] = new_account\n",
    "        print(f\"Welcome, {first_name}. Your account number is {account_number}.\")\n",
    "#         with open('account_information.txt','a') as acc:\n",
    "#             acc.write(f'{last_name} {first_name} {middle_name} {age} {gender} {account_balance} {account_number}\\n') \n",
    "            \n",
    "    #Generating account number \n",
    "    def account_number(self):\n",
    "        import random \n",
    "        account_no = ''\n",
    "        for i in range(9):\n",
    "            num =random.randint(0,9)\n",
    "            account_no += str(num)\n",
    "        return account_no\n",
    "    def deposit(self):\n",
    "        account_number = input(\"Enter your account number: \")\n",
    "        amount = int(input(\"Enter an amount: \"))\n",
    "        if account_number in self.accounts.keys():\n",
    "            account = self.accounts[account_number]\n",
    "            account.deposit(amount)\n",
    "        else:\n",
    "            print(\"Account number not available.\")\n",
    "    def withdraw(self):\n",
    "        account_number = input(\"Enter your account number: \")\n",
    "        amount = int(input(\"Enter an amount: \"))\n",
    "        account = self.accounts[account_number]\n",
    "        account.withdraw(amount)"
   ]
  },
  {
   "cell_type": "code",
   "execution_count": 3,
   "id": "67d9cd12",
   "metadata": {},
   "outputs": [
    {
     "name": "stdout",
     "output_type": "stream",
     "text": [
      " 1. Create an Account \n",
      " 2. Deposits \n",
      " 3. Withdrawals \n",
      " 4. Get balance\n",
      " 5. Exit \n",
      "\n",
      "{}\n",
      "Enter option:1\n",
      "Create account!!\n",
      "Enter First Name SK\n",
      "Enter Last Name OD\n",
      "Enter Middle Name OT\n",
      "Enter Age 24\n",
      "Enter Gender M\n",
      "Welcome, SK. Your account number is 920401674.\n",
      " 1. Create an Account \n",
      " 2. Deposits \n",
      " 3. Withdrawals \n",
      " 4. Get balance\n",
      " 5. Exit \n",
      "\n",
      "{'920401674': SK - 0}\n",
      "Enter option:3\n",
      "Enter your account number: 920401674\n",
      "Enter an amount: 10\n",
      " 1. Create an Account \n",
      " 2. Deposits \n",
      " 3. Withdrawals \n",
      " 4. Get balance\n",
      " 5. Exit \n",
      "\n",
      "{'920401674': SK - -10.0}\n",
      "Enter option:5\n",
      "Thank you for banking with us.\n"
     ]
    }
   ],
   "source": [
    "bank.command_prompt()"
   ]
  },
  {
   "cell_type": "code",
   "execution_count": 15,
   "id": "d2641a17",
   "metadata": {},
   "outputs": [
    {
     "data": {
      "text/plain": [
       "{'046864671': SK - 5.0}"
      ]
     },
     "execution_count": 15,
     "metadata": {},
     "output_type": "execute_result"
    }
   ],
   "source": [
    "bank.accounts"
   ]
  },
  {
   "cell_type": "code",
   "execution_count": 2,
   "id": "294d5557",
   "metadata": {},
   "outputs": [],
   "source": [
    "bank = Bank()"
   ]
  },
  {
   "cell_type": "code",
   "execution_count": null,
   "id": "6426139b",
   "metadata": {},
   "outputs": [],
   "source": []
  }
 ],
 "metadata": {
  "kernelspec": {
   "display_name": "Python 3 (ipykernel)",
   "language": "python",
   "name": "python3"
  },
  "language_info": {
   "codemirror_mode": {
    "name": "ipython",
    "version": 3
   },
   "file_extension": ".py",
   "mimetype": "text/x-python",
   "name": "python",
   "nbconvert_exporter": "python",
   "pygments_lexer": "ipython3",
   "version": "3.9.12"
  }
 },
 "nbformat": 4,
 "nbformat_minor": 5
}
